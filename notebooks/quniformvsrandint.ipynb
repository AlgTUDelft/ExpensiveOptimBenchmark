{
 "cells": [
  {
   "cell_type": "code",
   "execution_count": null,
   "metadata": {},
   "outputs": [],
   "source": [
    "import pandas as pd\n",
    "import numpy as np\n",
    "import matplotlib.pyplot as plt"
   ]
  },
  {
   "cell_type": "code",
   "execution_count": null,
   "metadata": {},
   "outputs": [],
   "source": [
    "x = pd.read_csv('../results/experiment_convex_1591902230.4181876_1276_summ.csv')\n",
    "x['intmode'] = 'quniform'\n",
    "x['intmode'].iloc[0:100] = 'randint'"
   ]
  },
  {
   "cell_type": "code",
   "execution_count": null,
   "metadata": {},
   "outputs": [],
   "source": [
    "x"
   ]
  },
  {
   "cell_type": "code",
   "execution_count": null,
   "metadata": {},
   "outputs": [],
   "source": [
    "x.hist(column='best_fitness', by='intmode', sharex=True, sharey=True)"
   ]
  },
  {
   "cell_type": "code",
   "execution_count": null,
   "metadata": {},
   "outputs": [],
   "source": [
    "x.groupby('intmode')['best_fitness'].hist(alpha=0.5, bins=np.linspace(0, 4, 30))"
   ]
  },
  {
   "cell_type": "code",
   "execution_count": null,
   "metadata": {},
   "outputs": [],
   "source": [
    "fig, ax = plt.subplots()\n",
    "lab = x.groupby('intmode')['intmode'].aggregate(lambda x: x.iloc[0])\n",
    "ax.hist(x.groupby('intmode')['best_fitness'].aggregate(lambda x: tuple(x)), bins=np.linspace(0, 4, 30), label=tuple(lab))\n",
    "ax.legend()"
   ]
  },
  {
   "cell_type": "code",
   "execution_count": null,
   "metadata": {},
   "outputs": [],
   "source": [
    "fig, ax = plt.subplots()\n",
    "lab = x.groupby('intmode')['intmode'].aggregate(lambda x: x.iloc[0])\n",
    "ax.hist(x.groupby('intmode')['total_time'].aggregate(lambda x: tuple(x)), bins=np.linspace(0, 8, 30), label=tuple(lab))\n",
    "ax.legend()"
   ]
  },
  {
   "cell_type": "code",
   "execution_count": null,
   "metadata": {},
   "outputs": [],
   "source": [
    "x = pd.read_csv('../results/experiment_rosen_1591904167.3767025_12390_summ.csv')\n",
    "x['intmode'] = 'quniform'\n",
    "x['intmode'].iloc[0:100] = 'randint'"
   ]
  },
  {
   "cell_type": "code",
   "execution_count": null,
   "metadata": {},
   "outputs": [],
   "source": [
    "splt = x.groupby('intmode')['best_fitness'].hist(alpha=0.5, bins=np.linspace(0, 4, 30))"
   ]
  },
  {
   "cell_type": "code",
   "execution_count": null,
   "metadata": {},
   "outputs": [],
   "source": [
    "fig, ax = plt.subplots()\n",
    "lab = x.groupby('intmode')['intmode'].aggregate(lambda x: x.iloc[0])\n",
    "ax.hist(x.groupby('intmode')['best_fitness'].aggregate(lambda x: tuple(x)), bins=np.linspace(0, 1, 30), label=tuple(lab))\n",
    "ax.legend()"
   ]
  },
  {
   "cell_type": "code",
   "execution_count": null,
   "metadata": {},
   "outputs": [],
   "source": [
    "fig, ax = plt.subplots()\n",
    "lab = x.groupby('intmode')['intmode'].aggregate(lambda x: x.iloc[0])\n",
    "ax.hist(x.groupby('intmode')['total_time'].aggregate(lambda x: tuple(x)), bins=np.linspace(0, 8, 30), label=tuple(lab))\n",
    "ax.legend()"
   ]
  },
  {
   "cell_type": "code",
   "execution_count": null,
   "metadata": {},
   "outputs": [],
   "source": []
  }
 ],
 "metadata": {
  "language_info": {
   "codemirror_mode": {
    "name": "ipython",
    "version": 3
   },
   "file_extension": ".py",
   "mimetype": "text/x-python",
   "name": "python",
   "nbconvert_exporter": "python",
   "pygments_lexer": "ipython3",
   "version": "3.7.6-final"
  },
  "orig_nbformat": 2,
  "kernelspec": {
   "name": "python37664bitcondaa480c177f7b246e898f3beb0a79423a9",
   "display_name": "Python 3.7.6 64-bit (conda)"
  }
 },
 "nbformat": 4,
 "nbformat_minor": 2
}