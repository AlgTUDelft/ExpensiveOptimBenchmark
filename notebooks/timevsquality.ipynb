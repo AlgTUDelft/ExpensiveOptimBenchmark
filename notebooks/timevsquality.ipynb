{
 "metadata": {
  "language_info": {
   "codemirror_mode": {
    "name": "ipython",
    "version": 3
   },
   "file_extension": ".py",
   "mimetype": "text/x-python",
   "name": "python",
   "nbconvert_exporter": "python",
   "pygments_lexer": "ipython3",
   "version": "3.7.6-final"
  },
  "orig_nbformat": 2,
  "kernelspec": {
   "name": "python37664bitcondaa480c177f7b246e898f3beb0a79423a9",
   "display_name": "Python 3.7.6 64-bit (conda)"
  }
 },
 "nbformat": 4,
 "nbformat_minor": 2,
 "cells": [
  {
   "cell_type": "code",
   "execution_count": null,
   "metadata": {},
   "outputs": [],
   "source": [
    "import numpy as np\n",
    "import pandas as pd\n",
    "import matplotlib.pyplot as plt\n",
    "import matplotlib.cm as cm\n",
    "from glob import glob"
   ]
  },
  {
   "cell_type": "code",
   "execution_count": null,
   "metadata": {},
   "outputs": [],
   "source": [
    "# paths = [\n",
    "#     \"../results/bo/ackley53/*_iters.csv\",\n",
    "#      \"../results/*dim53Ackley*_iters.csv\"\n",
    "# ]\n",
    "# paths = [\n",
    "#     \"../results/*/*/*_iters.csv\"\n",
    "# ]\n",
    "paths = [\n",
    "    \"../results/*/*/*ackley*_iters.csv\"\n",
    "]\n",
    "res = pd.concat(\n",
    "    pd.read_csv(f) for p in paths for f in glob(p)\n",
    ")\n",
    "res.head()"
   ]
  },
  {
   "cell_type": "code",
   "execution_count": null,
   "metadata": {},
   "outputs": [],
   "source": [
    "res['iter_total_time'] = res['iter_eval_time'] + res['iter_model_time']"
   ]
  },
  {
   "cell_type": "code",
   "execution_count": null,
   "metadata": {},
   "outputs": [],
   "source": [
    "resm = res.groupby(['approach', 'problem', 'iter_idx']).agg(\n",
    "    iter_model_time_mean=pd.NamedAgg(column='iter_model_time', aggfunc=np.mean),\n",
    "    iter_model_time_std=pd.NamedAgg(column='iter_model_time', aggfunc=np.std),\n",
    "    iter_model_time_q05=pd.NamedAgg(column='iter_model_time', aggfunc=lambda x: np.quantile(x, 0.05)),\n",
    "    iter_model_time_q95=pd.NamedAgg(column='iter_model_time', aggfunc=lambda x: np.quantile(x, 0.95)),\n",
    "    iter_total_time_mean=pd.NamedAgg(column='iter_total_time', aggfunc=np.mean),\n",
    "    iter_total_time_std=pd.NamedAgg(column='iter_total_time', aggfunc=np.std),\n",
    "    iter_total_time_q05=pd.NamedAgg(column='iter_total_time', aggfunc=lambda x: np.quantile(x, 0.05)),\n",
    "    iter_total_time_q95=pd.NamedAgg(column='iter_total_time', aggfunc=lambda x: np.quantile(x, 0.95)),\n",
    "    iter_best_fitness_mean=pd.NamedAgg(column='iter_best_fitness', aggfunc=np.mean),\n",
    "    iter_best_fitness_std=pd.NamedAgg(column='iter_best_fitness', aggfunc=np.std),\n",
    "    iter_best_fitness_q05=pd.NamedAgg(column='iter_best_fitness', aggfunc=lambda x: np.quantile(x, 0.05)),\n",
    "    iter_best_fitness_q95=pd.NamedAgg(column='iter_best_fitness', aggfunc=lambda x: np.quantile(x, 0.95)),\n",
    ")\n",
    "resm = resm.reset_index()\n",
    "resm['cum_total_time_mean'] = resm.groupby(['approach', 'problem'])['iter_total_time_mean'].cumsum()\n",
    "\n",
    "resm.head()"
   ]
  },
  {
   "cell_type": "code",
   "execution_count": null,
   "metadata": {
    "tags": []
   },
   "outputs": [],
   "source": [
    "resmbest = resm.sort_values(by='cum_total_time_mean') \n",
    "minima = resm.groupby('problem')['cum_total_time_mean'].min()\n",
    "maxima = resm.groupby('problem')['cum_total_time_mean'].max()\n",
    "\n",
    "resmbest['temporal_best_mean'] = resmbest.groupby('problem')['iter_best_fitness_mean'].cummin()\n",
    "resmbest = resmbest[resmbest['temporal_best_mean'] == resmbest['iter_best_fitness_mean']]\n",
    "# So the minima are per-problem, which means we have to do some trickery to add this as a column.\n",
    "# reset_index drops the problem labels, and sets it to an ascending numberical order.\n",
    "# As our list is sorted by value (by the above listing) this index is not in the same order, so we need to replace it.\n",
    "ct_min = minima[resmbest['problem']].reset_index(drop=True)\n",
    "ct_min.index = resmbest.index\n",
    "resmbest['ct_min'] = ct_min\n",
    "ct_max = maxima[resmbest['problem']].reset_index(drop=True)\n",
    "ct_max.index = resmbest.index\n",
    "resmbest['ct_max'] = ct_max\n",
    "\n",
    "resmbest['cum_total_time_mean_prev'] = resmbest.groupby('problem')['cum_total_time_mean'].shift(1)\n",
    "# resmbest['cum_total_time_mean_prev'][resmbest['cum_total_time_mean_prev'].isna()] = resmbest['ct_min'][resmbest['cum_total_time_mean_prev'].isna()]\n",
    "resmbest['cum_total_time_mean_next'] = resmbest.groupby('problem')['cum_total_time_mean'].shift(-1)\n",
    "# resmbest['cum_total_time_mean_next'][resmbest['cum_total_time_mean_next'].isna()] = resmbest['ct_max'][resmbest['cum_total_time_mean_next'].isna()]\n",
    "resmbest['best_start'] = np.nanmean([resmbest['cum_total_time_mean'], resmbest['cum_total_time_mean_prev']], axis=0)\n",
    "starts = resmbest['cum_total_time_mean_prev'].isna()\n",
    "resmbest['best_start'][starts] = resmbest['ct_min'][starts]\n",
    "resmbest['best_end'] = np.nanmean([resmbest['cum_total_time_mean'], resmbest['cum_total_time_mean_next']], axis=0)\n",
    "ends = resmbest['cum_total_time_mean_next'].isna()\n",
    "resmbest['best_end'][ends] = resmbest['ct_max'][ends]\n",
    "resmbest.head(100)"
   ]
  },
  {
   "cell_type": "code",
   "execution_count": null,
   "metadata": {},
   "outputs": [],
   "source": [
    "resmbests = pd.DataFrame({'problem': resmbest['problem'], 'approach': resmbest['approach'], 'x': zip(resmbest['best_start'], resmbest['best_end'])})\n",
    "resmbests = resmbests.explode('x')\n",
    "resmbests['x'] = resmbests['x'].astype(float)"
   ]
  },
  {
   "cell_type": "code",
   "execution_count": null,
   "metadata": {
    "tags": []
   },
   "outputs": [],
   "source": [
    "resps = resm.groupby('problem')\n",
    "resbestps = {p: d for (p, d) in resmbests.groupby('problem')}\n",
    "\n",
    "\n",
    "colors = cm.get_cmap('tab10')\n",
    "uniq_approaches = resm['approach'].unique()\n",
    "n_approaches = len(uniq_approaches)\n",
    "approachtocolor = {a: colors(i / (n_approaches - 1)) for (i, a) in enumerate(uniq_approaches)}\n",
    "# margintype = 'std'\n",
    "margintype = 'q5-95'\n",
    "\n",
    "for problem, respsi in resps:\n",
    "    fig = plt.figure()\n",
    "    ax = fig.subplots()\n",
    "\n",
    "    ax.set_title(problem)\n",
    "    ax.set_xscale('log')\n",
    "    if \"SteelFoldPlate\" in problem:\n",
    "        ax.set_yscale('log')\n",
    "    ax.set_ylabel(\"Fitness\")\n",
    "    ax.set_xlabel(\"Time (s)\")\n",
    "\n",
    "\n",
    "    bests = resbestps[problem]\n",
    "    \n",
    "\n",
    "    for (idx, (approach, sr)) in enumerate(respsi.groupby('approach')):\n",
    "        # x = np.cumsum(sr['iter_model_time_mean'])\n",
    "        x = np.cumsum(sr['iter_total_time_mean'])\n",
    "        y = sr['iter_best_fitness_mean']\n",
    "        if \"SteelFoldPlate\" in problem:\n",
    "            y = y + 1.0\n",
    "\n",
    "        color = approachtocolor[approach]\n",
    "        ax.plot(x, y, label=approach, color=color)\n",
    "\n",
    "        plot_margin = True\n",
    "        # xstd = sr['iter_model_time_std']\n",
    "        if margintype == 'std':\n",
    "            # print(\"Plotting standard deviation\")\n",
    "            xstd = sr['iter_total_time_std']\n",
    "            xmin = x - xstd\n",
    "            xmax = x + xstd\n",
    "            ystd = sr['iter_best_fitness_std']\n",
    "            ymin = y - ystd\n",
    "            ymax = y + ystd\n",
    "        elif margintype == 'q5-95':\n",
    "            # print(\"Plotting quantiles.\")\n",
    "            xmin = sr['iter_total_time_q05']\n",
    "            xmax = sr['iter_total_time_q95']\n",
    "            ymin = sr['iter_best_fitness_q05']\n",
    "            ymax = sr['iter_best_fitness_q95']\n",
    "        else:\n",
    "            plot_margin = False\n",
    "\n",
    "        if plot_margin:\n",
    "            # print(f\"Adding margin.\\n{ymin}\\n{ymax}\")\n",
    "            ax.fill_between(x, ymin, ymax, alpha=0.1, color=color)\n",
    "        \n",
    "        bests['x']\n",
    "        ax.fill_between(np.array(bests['x']), 0, 0.025, color=color, alpha=0.5, where=np.array(bests['approach'] == approach), interpolate=False, transform=ax.get_xaxis_transform())\n",
    "\n",
    "    ax.legend()"
   ]
  }
 ]
}