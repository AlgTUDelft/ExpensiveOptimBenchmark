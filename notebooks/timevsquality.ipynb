{
 "metadata": {
  "language_info": {
   "codemirror_mode": {
    "name": "ipython",
    "version": 3
   },
   "file_extension": ".py",
   "mimetype": "text/x-python",
   "name": "python",
   "nbconvert_exporter": "python",
   "pygments_lexer": "ipython3",
   "version": "3.7.6-final"
  },
  "orig_nbformat": 2,
  "kernelspec": {
   "name": "python37664bitcondaa480c177f7b246e898f3beb0a79423a9",
   "display_name": "Python 3.7.6 64-bit (conda)"
  }
 },
 "nbformat": 4,
 "nbformat_minor": 2,
 "cells": [
  {
   "cell_type": "code",
   "execution_count": null,
   "metadata": {},
   "outputs": [],
   "source": [
    "import numpy as np\n",
    "import pandas as pd\n",
    "import matplotlib.pyplot as plt\n",
    "from glob import glob"
   ]
  },
  {
   "cell_type": "code",
   "execution_count": null,
   "metadata": {},
   "outputs": [],
   "source": [
    "# paths = [\n",
    "#     \"../results/bo/ackley53/*_iters.csv\",\n",
    "#      \"../results/*dim53Ackley*_iters.csv\"\n",
    "# ]\n",
    "paths = [\n",
    "    \"../results/*/*/*_iters.csv\"\n",
    "]\n",
    "res = pd.concat(\n",
    "    pd.read_csv(f) for p in paths for f in glob(p)\n",
    ")\n",
    "res.head()"
   ]
  },
  {
   "cell_type": "code",
   "execution_count": null,
   "metadata": {},
   "outputs": [],
   "source": [
    "res['iter_total_time'] = res['iter_eval_time'] + res['iter_model_time']"
   ]
  },
  {
   "cell_type": "code",
   "execution_count": null,
   "metadata": {},
   "outputs": [],
   "source": [
    "resm = res.groupby(['approach', 'problem', 'iter_idx']).agg(\n",
    "    iter_model_time_mean=pd.NamedAgg(column='iter_model_time', aggfunc=np.mean),\n",
    "    iter_model_time_std=pd.NamedAgg(column='iter_model_time', aggfunc=np.std),\n",
    "    iter_model_time_q05=pd.NamedAgg(column='iter_model_time', aggfunc=lambda x: np.quantile(x, 0.05)),\n",
    "    iter_model_time_q95=pd.NamedAgg(column='iter_model_time', aggfunc=lambda x: np.quantile(x, 0.95)),\n",
    "    iter_total_time_mean=pd.NamedAgg(column='iter_total_time', aggfunc=np.mean),\n",
    "    iter_total_time_std=pd.NamedAgg(column='iter_total_time', aggfunc=np.std),\n",
    "    iter_total_time_q05=pd.NamedAgg(column='iter_total_time', aggfunc=lambda x: np.quantile(x, 0.05)),\n",
    "    iter_total_time_q95=pd.NamedAgg(column='iter_total_time', aggfunc=lambda x: np.quantile(x, 0.95)),\n",
    "    iter_best_fitness_mean=pd.NamedAgg(column='iter_best_fitness', aggfunc=np.mean),\n",
    "    iter_best_fitness_std=pd.NamedAgg(column='iter_best_fitness', aggfunc=np.std),\n",
    "    iter_best_fitness_q05=pd.NamedAgg(column='iter_best_fitness', aggfunc=lambda x: np.quantile(x, 0.05)),\n",
    "    iter_best_fitness_q95=pd.NamedAgg(column='iter_best_fitness', aggfunc=lambda x: np.quantile(x, 0.95)),\n",
    ")\n",
    "resm = resm.reset_index()\n",
    "resm.head()"
   ]
  },
  {
   "cell_type": "code",
   "execution_count": null,
   "metadata": {},
   "outputs": [],
   "source": [
    "resm.head()"
   ]
  },
  {
   "cell_type": "code",
   "execution_count": null,
   "metadata": {
    "tags": []
   },
   "outputs": [],
   "source": [
    "resps = resm.groupby('problem')\n",
    "# margintype = 'std'\n",
    "margintype = 'q5-95'\n",
    "\n",
    "for problem, respsi in resps:\n",
    "    fig = plt.figure()\n",
    "    ax = fig.subplots()\n",
    "\n",
    "    ax.set_title(problem)\n",
    "    ax.set_xscale('log')\n",
    "    if \"SteelFoldPlate\" in problem:\n",
    "        ax.set_yscale('log')\n",
    "    ax.set_ylabel(\"Fitness\")\n",
    "    ax.set_xlabel(\"Time (s)\")\n",
    "\n",
    "    for (_, sr) in respsi.groupby('approach'):\n",
    "        # x = np.cumsum(sr['iter_model_time_mean'])\n",
    "        x = np.cumsum(sr['iter_total_time_mean'])\n",
    "        y = sr['iter_best_fitness_mean']\n",
    "        if \"SteelFoldPlate\" in problem:\n",
    "            y = y + 1.0\n",
    "        ax.plot(x, y, label=sr['approach'].iloc[0])\n",
    "\n",
    "        plot_margin = True\n",
    "        # xstd = sr['iter_model_time_std']\n",
    "        if margintype == 'std':\n",
    "            # print(\"Plotting standard deviation\")\n",
    "            xstd = sr['iter_total_time_std']\n",
    "            xmin = x - xstd\n",
    "            xmax = x + xstd\n",
    "            ystd = sr['iter_best_fitness_std']\n",
    "            ymin = y - ystd\n",
    "            ymax = y + ystd\n",
    "        elif margintype == 'q5-95':\n",
    "            # print(\"Plotting quantiles.\")\n",
    "            xmin = sr['iter_total_time_q05']\n",
    "            xmax = sr['iter_total_time_q95']\n",
    "            ymin = sr['iter_best_fitness_q05']\n",
    "            ymax = sr['iter_best_fitness_q95']\n",
    "        else:\n",
    "            plot_margin = False\n",
    "\n",
    "        if plot_margin:\n",
    "            # print(f\"Adding margin.\\n{ymin}\\n{ymax}\")\n",
    "            ax.fill_between(x, ymin, ymax, alpha=0.1)\n",
    "\n",
    "    ax.legend()"
   ]
  },
  {
   "cell_type": "code",
   "execution_count": null,
   "metadata": {},
   "outputs": [],
   "source": []
  }
 ]
}