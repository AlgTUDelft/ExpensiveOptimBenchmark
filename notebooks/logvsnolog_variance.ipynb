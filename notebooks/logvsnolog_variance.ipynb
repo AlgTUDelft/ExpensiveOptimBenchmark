{
 "metadata": {
  "language_info": {
   "codemirror_mode": {
    "name": "ipython",
    "version": 3
   },
   "file_extension": ".py",
   "mimetype": "text/x-python",
   "name": "python",
   "nbconvert_exporter": "python",
   "pygments_lexer": "ipython3",
   "version": "3.7.6-final"
  },
  "orig_nbformat": 2,
  "kernelspec": {
   "name": "python3",
   "display_name": "Python 3"
  }
 },
 "nbformat": 4,
 "nbformat_minor": 2,
 "cells": [
  {
   "cell_type": "code",
   "execution_count": null,
   "metadata": {},
   "outputs": [],
   "source": [
    "import pandas as pd\n",
    "import numpy as np\n",
    "import matplotlib.pyplot as plt\n",
    "from functools import partial\n",
    "from itertools import product\n",
    "from IPython.display import display\n",
    "from glob import glob"
   ]
  },
  {
   "cell_type": "code",
   "execution_count": null,
   "metadata": {},
   "outputs": [],
   "source": [
    "# res = pd.read_csv('./logvsnolog/experiment_rosen_loglaurens_iters.csv')\n",
    "# res = pd.concat([\n",
    "#     pd.read_csv('./rosenvar/experiment_rosen_nolog_iters.csv'),\n",
    "#     pd.read_csv('./rosenvar/experiment_rosen_log_iters.csv')])\n",
    "res = pd.concat(pd.read_csv(f) for f in glob(\"../results/results-rosen238-tiny/*_iters.csv\"))\n",
    "res"
   ]
  },
  {
   "cell_type": "code",
   "execution_count": null,
   "metadata": {},
   "outputs": [],
   "source": [
    "def gen_samplemat(col):\n",
    "    return np.vstack(col.apply(lambda x: np.asarray(x.strip(\"][\").split(', '), dtype=float)))"
   ]
  },
  {
   "cell_type": "code",
   "execution_count": null,
   "metadata": {},
   "outputs": [],
   "source": [
    "allsamples = gen_samplemat(res['iter_x'])\n",
    "dmin = np.min(allsamples, axis=0)\n",
    "dmax = np.max(allsamples, axis=0)\n",
    "\n",
    "display(allsamples)\n",
    "display(dmin)\n",
    "display(dmax)\n",
    "\n",
    "def gensamplemat_norm(col):\n",
    "    return (gen_samplemat(col) - dmin) / (dmax - dmin)"
   ]
  },
  {
   "cell_type": "code",
   "execution_count": null,
   "metadata": {},
   "outputs": [],
   "source": [
    "expmats = res.groupby('exp_id')['iter_x'].agg(lambda x: (gensamplemat_norm(x), )).apply(lambda x: x[0])\n",
    "expmats.name = 'samplemat'\n",
    "expmats = pd.merge(expmats.reset_index(), res[res['iter_idx']==0][['exp_id', 'approach', 'problem']], how='left')\n",
    "expmats"
   ]
  },
  {
   "cell_type": "code",
   "execution_count": null,
   "metadata": {
    "tags": []
   },
   "outputs": [],
   "source": [
    "# iis = range(0, 1000, 100)\n",
    "iis = (0, 7, 14, 21)\n",
    "#iis = (0, 100, 200, 300, 450, 600, 650, 750, 850)\n",
    "# iis = (200, 201, 202, 203)\n",
    "d = 5\n",
    "nplotsperi = 3\n",
    "\n",
    "fig, axs = plt.subplots(len(iis), nplotsperi, figsize=(18 / 3 * nplotsperi, 16/4 * len(iis)))\n",
    "\n",
    "for pltidx, i in enumerate(iis):\n",
    "    # i= 300 (randomsearch), 0 (idone/advanced), 100 (idone/basic)\n",
    "    # i = 200\n",
    "    r = expmats.iloc[i]\n",
    "    islog = 'log=True' in r['problem']\n",
    "    print(f\"{r['problem']}: islog? {islog}\")\n",
    "\n",
    "    smd = r['samplemat'][:, d]\n",
    "    ax1 = axs[pltidx, 0]\n",
    "    ax1.plot(smd)\n",
    "    ax1.title.set_text(f\"i: {i}, approach: {r['approach']}, log?:{islog}, d: {d}\")\n",
    "    # plt.show()\n",
    "\n",
    "    smdd = np.convolve(smd, [-1, 1])\n",
    "    # plt.plot(smdd)\n",
    "    ax2 = axs[pltidx, 1]\n",
    "    ax2.hist(smdd, bins=np.linspace(-1.0, 1.0, 20))\n",
    "    ax2.title.set_text(f\"i: {i}, approach: {r['approach']}, log?:{islog}, d: {d}\")\n",
    "    # plt.show()\n",
    "\n",
    "    ax3 = axs[pltidx, 2]\n",
    "    smdfft = np.abs(np.fft.fft(smd - np.mean(smd)))\n",
    "    ax3.plot(smdfft)\n",
    "    ax3.title.set_text(f\"i: {i}, approach: {r['approach']}, log?:{islog}, d: {d} / fft\")\n",
    "\n",
    "    # plt.plot(np.abs(np.fft.fft(r['samplemat'][:, d] - np.mean(r['samplemat'][:, d]))))\n",
    "    # plt.title(f\"i: {i}, approach: {r['approach']}, d: {d} / fft\")\n",
    "    # plt.show()\n",
    "    # plt.show()\n",
    "\n",
    "fig.show()"
   ]
  },
  {
   "cell_type": "code",
   "execution_count": null,
   "metadata": {},
   "outputs": [],
   "source": [
    "# iis = (0, 100, 200, 300, 400)\n",
    "# iis = (range(0, 5+1), range(100, 105+1), range(200, 205+1), range(300, 305+1), range(450, 455+1))\n",
    "iis = [range(i, i+7) for i in range(0, 28, 7)]\n",
    "nplotsperi = 3\n",
    "d = 200\n",
    "\n",
    "fig, axs = plt.subplots(len(iis), nplotsperi, figsize=(18, 16))\n",
    "\n",
    "smds = []\n",
    "smdffts = []\n",
    "\n",
    "for pltidx, ix in enumerate(iis):\n",
    "    # i= 300 (randomsearch), 0 (idone/advanced), 100 (idone/basic)\n",
    "    # i = 200\n",
    "    i = ix[0]\n",
    "    r = expmats.iloc[i]\n",
    "    \n",
    "    smd = np.stack(expmats.iloc[ix]['samplemat'])[:, 0:24, d]\n",
    "    ax1 = axs[pltidx, 0]\n",
    "    ax1.plot(smd.T)\n",
    "    ax1.title.set_text(f\"i: {i}, approach: {r['approach']}, d: {d}\")\n",
    "\n",
    "    smds.append(smd)\n",
    "    # plt.show()\n",
    "\n",
    "    smdd = np.apply_along_axis(lambda x: np.convolve(x, [-1, 1]), 1, smd)\n",
    "    # plt.plot(smdd)\n",
    "    ax2 = axs[pltidx, 1]\n",
    "    ax2.hist(smdd.T, bins=np.linspace(-1.0, 1.0, 20))\n",
    "    ax2.title.set_text(f\"i: {i}, approach: {r['approach']}, d: {d}\")\n",
    "    # plt.show()\n",
    "    \n",
    "    ax3 = axs[pltidx, 2]\n",
    "    smdfft = np.abs(np.fft.fft(smd, axis=1))[:, 1:]\n",
    "    # smdfft[:, 0] = 0.0\n",
    "    # ax3.plot(np.mean(smdfft.T,axis=1))\n",
    "    ax3.plot(smdfft.T)\n",
    "    ax3.title.set_text(f\"i: {i}, approach: {r['approach']}, d: {d} / fft\")\n",
    "\n",
    "    # smdffts.append(smdfft)\n",
    "    smdffts.append(np.mean(smdfft.T,axis=1))\n",
    "\n",
    "    # plt.plot(np.abs(np.fft.fft(r['samplemat'][:, d] - np.mean(r['samplemat'][:, d]))))\n",
    "    # plt.title(f\"i: {i}, approach: {r['approach']}, d: {d} / fft\")\n",
    "    # plt.show()\n",
    "    # plt.show()\n",
    "\n",
    "fig.show()"
   ]
  },
  {
   "cell_type": "code",
   "execution_count": null,
   "metadata": {},
   "outputs": [],
   "source": [
    "# iis = (0, 100, 200, 300, 400)\n",
    "iis = (range(0, 5+1), range(100, 105+1), range(200, 205+1), range(300, 305+1), range(400, 405+1))\n",
    "nplotsperi = 3\n",
    "\n",
    "fig, axs = plt.subplots(len(iis), nplotsperi, figsize=(18, 16))\n",
    "\n",
    "smds = []\n",
    "smdffts = []\n",
    "\n",
    "for pltidx, ix in enumerate(iis):\n",
    "    # i= 300 (randomsearch), 0 (idone/advanced), 100 (idone/basic)\n",
    "    # i = 200\n",
    "    d = 5\n",
    "    i = ix[0]\n",
    "    r = expmats.iloc[i]\n",
    "    \n",
    "    smd = np.stack(expmats.iloc[ix]['samplemat'])[:, :, d]\n",
    "    ax1 = axs[pltidx, 0]\n",
    "    ax1.plot(smd.T)\n",
    "    ax1.title.set_text(f\"i: {i}, approach: {r['approach']}, d: {d}\")\n",
    "\n",
    "    smds.append(smd)\n",
    "    # plt.show()\n",
    "\n",
    "    smdd = np.apply_along_axis(lambda x: np.convolve(x, [-1, 1]), 1, smd)\n",
    "    # plt.plot(smdd)\n",
    "    ax2 = axs[pltidx, 1]\n",
    "    ax2.hist(smdd.T, bins=np.linspace(-1.0, 1.0, 20))\n",
    "    ax2.title.set_text(f\"i: {i}, approach: {r['approach']}, d: {d}\")\n",
    "    # plt.show()\n",
    "    \n",
    "    ax3 = axs[pltidx, 2]\n",
    "    smdfft = np.abs(np.fft.fft(smd, axis=1))[:, 1:]\n",
    "    # smdfft[:, 0] = 0.0\n",
    "    ax3.plot(np.mean(smdfft.T,axis=1))\n",
    "    # ax3.plot(smdfft.T)\n",
    "    ax3.title.set_text(f\"i: {i}, approach: {r['approach']}, d: {d} / fft\")\n",
    "\n",
    "    # smdffts.append(smdfft)\n",
    "    smdffts.append(np.mean(smdfft.T,axis=1))\n",
    "\n",
    "    # plt.plot(np.abs(np.fft.fft(r['samplemat'][:, d] - np.mean(r['samplemat'][:, d]))))\n",
    "    # plt.title(f\"i: {i}, approach: {r['approach']}, d: {d} / fft\")\n",
    "    # plt.show()\n",
    "    # plt.show()\n",
    "\n",
    "fig.show()"
   ]
  },
  {
   "cell_type": "code",
   "execution_count": null,
   "metadata": {},
   "outputs": [],
   "source": [
    "np.asarray([ np.mean(\n",
    "        np.minimum(smdffts[i], smdffts[j]) / \n",
    "        np.maximum(smdffts[i], smdffts[j])) \n",
    "    for i in range(0, len(smdffts))\n",
    "    for j in range(0, len(smdffts))]).reshape((len(smdffts), len(smdffts)))"
   ]
  },
  {
   "cell_type": "code",
   "execution_count": null,
   "metadata": {},
   "outputs": [],
   "source": [
    "smd = expmats.iloc[106]['samplemat'][:, d]\n",
    "smdfft = np.abs(np.fft.fft(smd, axis=0))[1:]\n",
    "np.asarray([ np.mean(\n",
    "        np.minimum(smdffts[i], smdfft) / \n",
    "        np.maximum(smdffts[i], smdfft)) \n",
    "    for i in range(0, len(smdffts))])"
   ]
  },
  {
   "cell_type": "code",
   "execution_count": null,
   "metadata": {},
   "outputs": [],
   "source": [
    "def fftvar(samplemat):\n",
    "    smfft = np.fft.fft(samplemat, axis=1)\n",
    "    smfftl = np.abs(smfft)\n",
    "    return np.mean(smfftl)\n",
    "\n",
    "def meanstd(samplemat):\n",
    "    return np.mean(np.std(samplemat, axis=1))"
   ]
  },
  {
   "cell_type": "code",
   "execution_count": null,
   "metadata": {},
   "outputs": [],
   "source": [
    "expmats['variances'] = expmats['samplemat'].apply(fftvar)\n",
    "expmats.groupby('approach')['variances'].mean()"
   ]
  },
  {
   "cell_type": "code",
   "execution_count": null,
   "metadata": {},
   "outputs": [],
   "source": [
    "expmats['variances'] = expmats['samplemat'].apply(meanstd)\n",
    "expmats.groupby('approach')['variances'].mean()"
   ]
  },
  {
   "cell_type": "code",
   "execution_count": null,
   "metadata": {},
   "outputs": [],
   "source": [
    "min_v = 0\n",
    "max_v = 10\n",
    "n_evals = 200\n",
    "n_samples = 1000000\n",
    "\n",
    "rng = np.random.default_rng(0)\n",
    "unif_samples = rng.integers(min_v, max_v, endpoint=True, size=(n_evals, n_samples))\n",
    "unif_samples_norm = (unif_samples - min_v) / (max_v - min_v)\n",
    "unif_samples_fft = np.abs(np.fft.fft(unif_samples_norm - np.mean(unif_samples_norm), axis=0))[1:]\n",
    "unif_samples_fft_mean = np.mean(unif_samples_fft, axis=1)\n",
    "\n",
    "plt.plot(unif_samples_fft_mean)\n",
    "plt.show()"
   ]
  },
  {
   "cell_type": "code",
   "execution_count": null,
   "metadata": {},
   "outputs": [],
   "source": [
    "min_v = 0\n",
    "max_v = 10\n",
    "n_evals = 400\n",
    "n_samples = 1000000\n",
    "\n",
    "rng = np.random.default_rng(0)\n",
    "unif_samples = rng.integers(min_v, max_v, endpoint=True, size=(n_evals, n_samples))\n",
    "unif_samples_norm = (unif_samples - min_v) / (max_v - min_v)\n",
    "unif_samples_fft = np.abs(np.fft.fft(unif_samples_norm - np.mean(unif_samples_norm), axis=0))[1:]\n",
    "unif_samples_fft_mean = np.mean(unif_samples_fft, axis=1)\n",
    "\n",
    "plt.plot(unif_samples_fft_mean)\n",
    "plt.show()"
   ]
  },
  {
   "cell_type": "code",
   "execution_count": null,
   "metadata": {},
   "outputs": [],
   "source": [
    "min_v = 0\n",
    "max_v = 10\n",
    "n_evals = 400\n",
    "n_samples = 10000\n",
    "p = 0.01\n",
    "\n",
    "rng = np.random.default_rng(0)\n",
    "\n",
    "unif_samples = min_v + rng.binomial(max_v - min_v, p, size=(n_evals, n_samples))\n",
    "unif_samples_norm = (unif_samples - min_v) / (max_v - min_v)\n",
    "plt.plot(unif_samples_norm[:, 1])\n",
    "plt.show()\n",
    "unif_samples_fft = np.abs(np.fft.fft(unif_samples_norm - np.mean(unif_samples_norm), axis=0))[1:]\n",
    "unif_samples_fft_mean = np.mean(unif_samples_fft, axis=1)\n",
    "\n",
    "plt.plot(unif_samples_fft_mean)\n",
    "plt.show()"
   ]
  },
  {
   "cell_type": "code",
   "execution_count": null,
   "metadata": {},
   "outputs": [],
   "source": [
    "min_v + rng.binomial(max_v - min_v, 0.1)"
   ]
  },
  {
   "cell_type": "code",
   "execution_count": null,
   "metadata": {},
   "outputs": [],
   "source": [
    "def fnl(Ex, N, k):\n",
    "    return np.abs(Ex) * np.abs(sum(np.exp(-2j*np.pi*k*n/N) for n in range(0, N-1)))\n",
    "\n",
    "fnl(1/10*p, 400, 200)"
   ]
  },
  {
   "cell_type": "code",
   "execution_count": null,
   "metadata": {},
   "outputs": [],
   "source": [
    "N = 400\n",
    "k = 200\n",
    "np.abs(sum(np.exp(-2j*np.pi*k*n/N) for n in range(0, N-1)))\n"
   ]
  },
  {
   "cell_type": "code",
   "execution_count": null,
   "metadata": {},
   "outputs": [],
   "source": []
  }
 ]
}